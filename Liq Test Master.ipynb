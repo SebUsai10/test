{
 "cells": [
  {
   "cell_type": "code",
   "execution_count": 43,
   "id": "0833c882",
   "metadata": {},
   "outputs": [
    {
     "data": {
      "text/html": [
       "<div>\n",
       "<style scoped>\n",
       "    .dataframe tbody tr th:only-of-type {\n",
       "        vertical-align: middle;\n",
       "    }\n",
       "\n",
       "    .dataframe tbody tr th {\n",
       "        vertical-align: top;\n",
       "    }\n",
       "\n",
       "    .dataframe thead th {\n",
       "        text-align: right;\n",
       "    }\n",
       "</style>\n",
       "<table border=\"1\" class=\"dataframe\">\n",
       "  <thead>\n",
       "    <tr style=\"text-align: right;\">\n",
       "      <th></th>\n",
       "      <th>Time</th>\n",
       "      <th>Asset</th>\n",
       "      <th>MP</th>\n",
       "      <th>LiqSell</th>\n",
       "      <th>LS</th>\n",
       "      <th>Liqbuy</th>\n",
       "      <th>LB</th>\n",
       "    </tr>\n",
       "  </thead>\n",
       "  <tbody>\n",
       "    <tr>\n",
       "      <th>0</th>\n",
       "      <td>2024/04/17 10:46:17:564 |    Info |        Spr...</td>\n",
       "      <td>SOLUSDT</td>\n",
       "      <td>136.2775</td>\n",
       "      <td>LiqSell</td>\n",
       "      <td>0.0</td>\n",
       "      <td>LiqBuy</td>\n",
       "      <td>0.0</td>\n",
       "    </tr>\n",
       "    <tr>\n",
       "      <th>1</th>\n",
       "      <td>2024/04/17 10:46:18:696 |    Info |        Spr...</td>\n",
       "      <td>SOLUSDT</td>\n",
       "      <td>136.2775</td>\n",
       "      <td>LiqSell</td>\n",
       "      <td>0.0</td>\n",
       "      <td>LiqBuy</td>\n",
       "      <td>0.0</td>\n",
       "    </tr>\n",
       "    <tr>\n",
       "      <th>2</th>\n",
       "      <td>2024/04/17 10:46:19:805 |    Info |        Spr...</td>\n",
       "      <td>SOLUSDT</td>\n",
       "      <td>136.2875</td>\n",
       "      <td>LiqSell</td>\n",
       "      <td>0.0</td>\n",
       "      <td>LiqBuy</td>\n",
       "      <td>0.0</td>\n",
       "    </tr>\n",
       "    <tr>\n",
       "      <th>3</th>\n",
       "      <td>2024/04/17 10:46:20:929 |    Info |        Spr...</td>\n",
       "      <td>SOLUSDT</td>\n",
       "      <td>136.2875</td>\n",
       "      <td>LiqSell</td>\n",
       "      <td>0.0</td>\n",
       "      <td>LiqBuy</td>\n",
       "      <td>0.0</td>\n",
       "    </tr>\n",
       "    <tr>\n",
       "      <th>4</th>\n",
       "      <td>2024/04/17 10:46:22:028 |    Info |        Spr...</td>\n",
       "      <td>SOLUSDT</td>\n",
       "      <td>136.3175</td>\n",
       "      <td>LiqSell</td>\n",
       "      <td>0.0</td>\n",
       "      <td>LiqBuy</td>\n",
       "      <td>0.0</td>\n",
       "    </tr>\n",
       "  </tbody>\n",
       "</table>\n",
       "</div>"
      ],
      "text/plain": [
       "                                                Time    Asset        MP   \n",
       "0  2024/04/17 10:46:17:564 |    Info |        Spr...  SOLUSDT  136.2775  \\\n",
       "1  2024/04/17 10:46:18:696 |    Info |        Spr...  SOLUSDT  136.2775   \n",
       "2  2024/04/17 10:46:19:805 |    Info |        Spr...  SOLUSDT  136.2875   \n",
       "3  2024/04/17 10:46:20:929 |    Info |        Spr...  SOLUSDT  136.2875   \n",
       "4  2024/04/17 10:46:22:028 |    Info |        Spr...  SOLUSDT  136.3175   \n",
       "\n",
       "   LiqSell   LS  Liqbuy   LB  \n",
       "0  LiqSell  0.0  LiqBuy  0.0  \n",
       "1  LiqSell  0.0  LiqBuy  0.0  \n",
       "2  LiqSell  0.0  LiqBuy  0.0  \n",
       "3  LiqSell  0.0  LiqBuy  0.0  \n",
       "4  LiqSell  0.0  LiqBuy  0.0  "
      ]
     },
     "execution_count": 43,
     "metadata": {},
     "output_type": "execute_result"
    }
   ],
   "source": [
    "import pandas as pd\n",
    "import numpy as np\n",
    "import matplotlib.pyplot as plt\n",
    "#I manually chopped out SOL as easier to work with one asset to start\n",
    "df = pd.read_csv(r\"C:/Users/asus/Desktop/Work/LiqTest/SOLSPLIT.csv\")\n",
    "#Name some columns\n",
    "df2 = df.set_axis(['Time', 'Asset', 'MP', 'LiqSell', 'LS', 'Liqbuy', 'LB'], axis=1)\n",
    "df2.head()"
   ]
  },
  {
   "cell_type": "code",
   "execution_count": 38,
   "id": "f9ea7d2b",
   "metadata": {},
   "outputs": [],
   "source": [
    "# Convert the 'LS' and LB columns to float\n",
    "df2['LS'] = df2['LS'].astype(float)\n",
    "df2['LB'] = df2['LB'].astype(float)\n",
    "# Convert non zero values in the 'LS' column to 1 and non zero value in LB to -1 for long/short trade signal purposes\n",
    "df2['LS'] = df2['LS'].apply(lambda x: 1 if x > 0 else x)\n",
    "df2['LB'] = df2['LB'].apply(lambda x: -1 if x > 0 else x)"
   ]
  },
  {
   "cell_type": "code",
   "execution_count": 39,
   "id": "8a5ae801",
   "metadata": {},
   "outputs": [],
   "source": [
    "#This shifts time ahead so we can consider an entry signal that holds for x periods this does not look at prior market return\n",
    "\n",
    "df2['Entry']=df2['MP'].shift(-1)#Shifted 1 period ahead of our signal as we begin quoting after recieving signal\n",
    "df2['Entry+1']=df2['MP'].shift(-2)#This is 2 periods after the signal but 1 period after our expected entry\n",
    "df2['Entry+5']=df2['MP'].shift(-6)\n",
    "df2['Entry+10']=df2['MP'].shift(-11)\n",
    "df2['Entry+30']=df2['MP'].shift(-31)\n",
    "df2['Entry+60']=df2['MP'].shift(-61)\n",
    "df2['Entry+300']=df2['MP'].shift(-301)"
   ]
  },
  {
   "cell_type": "code",
   "execution_count": 40,
   "id": "15a08913",
   "metadata": {},
   "outputs": [],
   "source": [
    "#Long and hold results for x seconds after a liquidation sell from Binance\n",
    "df2['Long1s'] = df2['LS']*((df2['Entry+1'] - df2['Entry']) / df2['Entry'])\n",
    "df2['Long5s'] = df2['LS']*((df2['Entry+5'] - df2['Entry']) / df2['Entry'])\n",
    "df2['Long10s'] = df2['LS']*((df2['Entry+10'] - df2['Entry']) / df2['Entry'])\n",
    "df2['Long30s'] = df2['LS']*((df2['Entry+30'] - df2['Entry']) / df2['Entry'])\n",
    "df2['Long60s'] = df2['LS']*((df2['Entry+60'] - df2['Entry']) / df2['Entry'])\n",
    "df2['Long300s'] = df2['LS']*((df2['Entry+300'] - df2['Entry']) / df2['Entry'])\n",
    "\n",
    "#Short and hold for x seconds after a liquidation buy from Binance\n",
    "df2['Short1s'] = df2['LB']*((df2['Entry+1'] - df2['Entry']) / df2['Entry'])\n",
    "df2['Short5s'] = df2['LB']*((df2['Entry+5'] - df2['Entry']) / df2['Entry'])\n",
    "df2['Short10s'] = df2['LB']*((df2['Entry+10'] - df2['Entry']) / df2['Entry'])\n",
    "df2['Short30s'] = df2['LB']*((df2['Entry+30'] - df2['Entry']) / df2['Entry'])\n",
    "df2['Short60s'] = df2['LB']*((df2['Entry+60'] - df2['Entry']) / df2['Entry'])\n",
    "df2['Short300s'] = df2['LB']*((df2['Entry+300'] - df2['Entry']) / df2['Entry'])"
   ]
  },
  {
   "cell_type": "code",
   "execution_count": 41,
   "id": "3141239b",
   "metadata": {},
   "outputs": [
    {
     "name": "stdout",
     "output_type": "stream",
     "text": [
      "The return when buying short liquidations for 1s is:0.0003277530278128172\n",
      "The return when buying short liquidations for 5s is:-0.0010229402309915143\n",
      "The return when buying short liquidations for 10s is:-0.00666908153376982\n",
      "The return when buying short liquidations for 30s is:-0.05187287238410264\n",
      "The return when buying short liquidations for 60s is:-0.08298778235957224\n",
      "The return when buying short liquidations for 300s is:-0.08399486686642792\n",
      "The return when selling long liquidations for 1s is:0.0009244945228364116\n",
      "The return when selling long liquidations for 5s is:0.002420952945735643\n",
      "The return when selling long liquidations for 10s is:-0.0012795136302962934\n",
      "The return when selling long liquidations for 30s is:-0.018786337156663016\n",
      "The return when selling long liquidations for 60s is:-0.06308038927122722\n",
      "The return when selling long liquidations for 300s is:-0.03821909570013468\n"
     ]
    }
   ],
   "source": [
    "print(f\"The return when buying short liquidations for 1s is:{df2['Long1s'].sum()}\")\n",
    "print(f\"The return when buying short liquidations for 5s is:{df2['Long5s'].sum()}\")\n",
    "print(f\"The return when buying short liquidations for 10s is:{df2['Long10s'].sum()}\")\n",
    "print(f\"The return when buying short liquidations for 30s is:{df2['Long30s'].sum()}\")\n",
    "print(f\"The return when buying short liquidations for 60s is:{df2['Long60s'].sum()}\")\n",
    "print(f\"The return when buying short liquidations for 300s is:{df2['Long300s'].sum()}\")\n",
    "print(f\"The return when selling long liquidations for 1s is:{df2['Short1s'].sum()}\")\n",
    "print(f\"The return when selling long liquidations for 5s is:{df2['Short5s'].sum()}\")\n",
    "print(f\"The return when selling long liquidations for 10s is:{df2['Short10s'].sum()}\")\n",
    "print(f\"The return when selling long liquidations for 30s is:{df2['Short30s'].sum()}\")\n",
    "print(f\"The return when selling long liquidations for 60s is:{df2['Short60s'].sum()}\")\n",
    "print(f\"The return when selling long liquidations for 300s is:{df2['Short300s'].sum()}\")"
   ]
  },
  {
   "cell_type": "code",
   "execution_count": 36,
   "id": "b174f34a",
   "metadata": {},
   "outputs": [
    {
     "name": "stdout",
     "output_type": "stream",
     "text": [
      "Number of Long Trades:8.0\n",
      "Number of Short Trades:0.0\n",
      "Estimated Trading fees for Longs:0.002128\n",
      "Estimated Trading fees for Shorts:0.0\n",
      "The gross return when buying short liquidations for 10s is:-0.006779577863626765\n",
      "The net return when buying short liquidations for 10s is:-0.008907577863626765\n",
      "The gross return when selling long liquidations for 10s is:0.0\n",
      "The net return when selling long liquidations for 10s is:0.0\n",
      "The win percent of longs is: 0.0\n",
      "The win percent of shorts is: nan\n",
      "The biggest winning trade on the long side is: nan\n",
      "The biggest losing trade on the long side is: -0.0014851644981113098\n",
      "The biggest winning trade on the short side is: nan\n",
      "The biggest losing trade on the short side is: nan\n"
     ]
    },
    {
     "name": "stderr",
     "output_type": "stream",
     "text": [
      "C:\\Users\\asus\\AppData\\Local\\Temp\\ipykernel_13028\\542549182.py:21: RuntimeWarning: invalid value encountered in scalar divide\n",
      "  win_percent_short = ((df2['Short10s'] > 0).sum())/df2['LB'].sum()\n"
     ]
    },
    {
     "data": {
      "image/png": "[encoded data removed]",
      "text/plain": [
       "<Figure size 1200x600 with 1 Axes>"
      ]
     },
     "metadata": {},
     "output_type": "display_data"
    }
   ],
   "source": [
    "#How Many Roud Trips did we take?\n",
    "print(f\"Number of Long Trades:{df2['LS'].sum()}\")\n",
    "print(f\"Number of Short Trades:{df2['LB'].sum()}\")\n",
    "\n",
    "#Rough estimate of fees at 50/50 maker taker assuming 0.9 bps exectution(=0.4bps+2.26bps) (I think we could be far closer to 80/20)\n",
    "print(f\"Estimated Trading fees for Longs:{(df2['LS'].sum())*0.000266}\")\n",
    "print(f\"Estimated Trading fees for Shorts:{(df2['LB'].sum())*0.000266}\")\n",
    "\n",
    "#Gross PNL Long\n",
    "\n",
    "print(f\"The gross return when buying short liquidations for 10s is:{df2['Long10s'].sum()}\")\n",
    "print(f\"The net return when buying short liquidations for 10s is:{df2['Long10s'].sum()-((df2['LS'].sum())*0.000266)}\")\n",
    "\n",
    "#Gross PNL Short\n",
    "\n",
    "print(f\"The gross return when selling long liquidations for 10s is:{df2['Short10s'].sum()}\")\n",
    "print(f\"The net return when selling long liquidations for 10s is:{df2['Short10s'].sum()+((df2['LB'].sum())*0.000266)}\")\n",
    "\n",
    "#Win Percentage Longs / Shorts for 10second holds\n",
    "win_percent_longs = ((df2['Long10s'] > 0).sum())/df2['LS'].sum()\n",
    "win_percent_short = ((df2['Short10s'] > 0).sum())/df2['LB'].sum()\n",
    "print(f\"The win percent of longs is: {win_percent_longs}\")\n",
    "print(f\"The win percent of shorts is: {win_percent_short}\")\n",
    "\n",
    "#Extremes When buying\n",
    "\n",
    "Biggest_win = df2['Long10s'][df2['Long10s'] > 0].max()\n",
    "Biggest_loss = df2['Long10s'][df2['Long10s'] < 0].min()\n",
    "\n",
    "print(f\"The biggest winning trade on the long side is: {Biggest_win}\")\n",
    "print(f\"The biggest losing trade on the long side is: {Biggest_loss}\")\n",
    "\n",
    "#Extremes When Selling\n",
    "\n",
    "Biggest_win_sell = df2['Short10s'][df2['Short10s'] > 0].max()\n",
    "Biggest_loss_sell = df2['Short10s'][df2['Short10s'] < 0].min()\n",
    "\n",
    "print(f\"The biggest winning trade on the short side is: {Biggest_win_sell}\")\n",
    "print(f\"The biggest losing trade on the short side is: {Biggest_loss_sell}\")\n",
    "\n",
    "# Create a figure and axis\n",
    "fig, ax = plt.subplots(figsize=(12, 6))\n",
    "\n",
    "# Plot the return stream\n",
    "ax.plot(df2['Long10s'])\n",
    "\n",
    "# Set the title and axis labels\n",
    "ax.set_title('Buying Liquidations and Holding for 10 seconds')\n",
    "ax.set_xlabel('Time')\n",
    "ax.set_ylabel('Returns')\n",
    "\n",
    "# Show the plot\n",
    "plt.show()\n"
   ]
  },
  {
   "cell_type": "code",
   "execution_count": 158,
   "id": "7bd36b86",
   "metadata": {
    "scrolled": true
   },
   "outputs": [],
   "source": [
    "#TODO\n",
    "\n",
    "#add in MX DD \n",
    "#add in Sharpe\n",
    "#Add in sortino\n",
    "\n",
    "#compare with trend filter\n",
    "\n",
    "#Do each Coin 1x1\n",
    "\n",
    "#Combine results\n",
    "\n",
    "#Manual test\n",
    "\n",
    "#Consider fees\n",
    "\n",
    "#Look at the results as a portfolio - how much correlation between results."
   ]
  },
  {
   "cell_type": "code",
   "execution_count": 159,
   "id": "fdac3b23",
   "metadata": {},
   "outputs": [],
   "source": [
    "#export to check\n",
    "df2.to_excel('C:/Users/asus/Desktop/Work/SOLLIQTESTS2.xlsx', index=False)\n"
   ]
  },
  {
   "cell_type": "code",
   "execution_count": null,
   "id": "53695924",
   "metadata": {},
   "outputs": [],
   "source": []
  }
 ],
 "metadata": {
  "kernelspec": {
   "display_name": "Python 3 (ipykernel)",
   "language": "python",
   "name": "python3"
  },
  "language_info": {
   "codemirror_mode": {
    "name": "ipython",
    "version": 3
   },
   "file_extension": ".py",
   "mimetype": "text/x-python",
   "name": "python",
   "nbconvert_exporter": "python",
   "pygments_lexer": "ipython3",
   "version": "3.11.3"
  }
 },
 "nbformat": 4,
 "nbformat_minor": 5
}
